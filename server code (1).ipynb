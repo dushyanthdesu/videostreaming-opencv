{
 "cells": [
  {
   "cell_type": "code",
   "execution_count": 1,
   "id": "4b48112a",
   "metadata": {},
   "outputs": [],
   "source": [
    "import socket"
   ]
  },
  {
   "cell_type": "code",
   "execution_count": 2,
   "id": "d696a87d",
   "metadata": {},
   "outputs": [],
   "source": [
    "import cv2"
   ]
  },
  {
   "cell_type": "code",
   "execution_count": 3,
   "id": "1c278bc4",
   "metadata": {},
   "outputs": [],
   "source": [
    "import numpy"
   ]
  },
  {
   "cell_type": "code",
   "execution_count": 4,
   "id": "e8916081",
   "metadata": {},
   "outputs": [],
   "source": [
    "import pickle"
   ]
  },
  {
   "cell_type": "code",
   "execution_count": 5,
   "id": "365752c2",
   "metadata": {},
   "outputs": [],
   "source": [
    "server_socket=socket.socket(socket.AF_INET,socket.SOCK_DGRAM)\n",
    "host_ip=\"192.168.29.121\"\n",
    "port=8888\n",
    "server_socket.bind((host_ip,port))"
   ]
  },
  {
   "cell_type": "code",
   "execution_count": null,
   "id": "0b4a9975",
   "metadata": {},
   "outputs": [],
   "source": [
    "while True:\n",
    "    a=server_socket.recvfrom(10000000)\n",
    "    client_ip=a[1][0]\n",
    "    data=a[0]\n",
    "    print(data)\n",
    "    data=pickle.loads(data)\n",
    "    data=cv2.imdecode(data,cv2.IMREAD_COLOR)\n",
    "    cv2.imshow('server side',data)\n",
    "    if cv2.waitKey(10)==13:\n",
    "        break\n",
    "cv2.destroyAllWindows()"
   ]
  }
 ],
 "metadata": {
  "kernelspec": {
   "display_name": "Python 3",
   "language": "python",
   "name": "python3"
  },
  "language_info": {
   "codemirror_mode": {
    "name": "ipython",
    "version": 3
   },
   "file_extension": ".py",
   "mimetype": "text/x-python",
   "name": "python",
   "nbconvert_exporter": "python",
   "pygments_lexer": "ipython3",
   "version": "3.8.8"
  }
 },
 "nbformat": 4,
 "nbformat_minor": 5
}
