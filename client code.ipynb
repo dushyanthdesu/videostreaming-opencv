{
 "cells": [
  {
   "cell_type": "code",
   "execution_count": 1,
   "id": "02d0863e",
   "metadata": {},
   "outputs": [],
   "source": [
    "import socket"
   ]
  },
  {
   "cell_type": "code",
   "execution_count": 2,
   "id": "0a4cedcd",
   "metadata": {},
   "outputs": [],
   "source": [
    "import cv2"
   ]
  },
  {
   "cell_type": "code",
   "execution_count": 7,
   "id": "22657437",
   "metadata": {},
   "outputs": [],
   "source": [
    "import pickle"
   ]
  },
  {
   "cell_type": "code",
   "execution_count": 4,
   "id": "b641c1e5",
   "metadata": {},
   "outputs": [],
   "source": [
    "import os"
   ]
  },
  {
   "cell_type": "code",
   "execution_count": 5,
   "id": "3766e751",
   "metadata": {},
   "outputs": [],
   "source": [
    "client_socket=socket.socket(socket.AF_INET,socket.SOCK_DGRAM)\n",
    "client_socket.setsockopt(socket.SOL_SOCKET,socket.SO_SNDBUF,10000000)\n",
    "server_ip=\"192.168.29.121\"\n",
    "server_port=8888"
   ]
  },
  {
   "cell_type": "code",
   "execution_count": 10,
   "id": "8b1c2bdd",
   "metadata": {},
   "outputs": [],
   "source": [
    "cap=cv2.VideoCapture(0)\n",
    "while True:\n",
    "    ret,photo = cap.read()\n",
    "    cv2.imshow('client side', photo)\n",
    "    ret, buffer = cv2.imencode(\".jpg\", photo, [int(cv2.IMWRITE_JPEG_QUALITY),30])\n",
    "    x_as_bytes = pickle.dumps(buffer)\n",
    "    client_socket.sendto(x_as_bytes,(server_ip , server_port))\n",
    "    if cv2.waitKey(10) == 13:\n",
    "        break\n",
    "  \n",
    "cv2.destroyAllWindows()\n",
    "cap.release()"
   ]
  },
  {
   "cell_type": "code",
   "execution_count": null,
   "id": "1e137e29",
   "metadata": {},
   "outputs": [],
   "source": []
  }
 ],
 "metadata": {
  "kernelspec": {
   "display_name": "Python 3",
   "language": "python",
   "name": "python3"
  },
  "language_info": {
   "codemirror_mode": {
    "name": "ipython",
    "version": 3
   },
   "file_extension": ".py",
   "mimetype": "text/x-python",
   "name": "python",
   "nbconvert_exporter": "python",
   "pygments_lexer": "ipython3",
   "version": "3.8.8"
  }
 },
 "nbformat": 4,
 "nbformat_minor": 5
}
